{
  "nbformat": 4,
  "nbformat_minor": 0,
  "metadata": {
    "colab": {
      "provenance": [],
      "authorship_tag": "ABX9TyMPE/HGYQEOYbIG0oxb5Nbo",
      "include_colab_link": true
    },
    "kernelspec": {
      "name": "python3",
      "display_name": "Python 3"
    },
    "language_info": {
      "name": "python"
    }
  },
  "cells": [
    {
      "cell_type": "markdown",
      "metadata": {
        "id": "view-in-github",
        "colab_type": "text"
      },
      "source": [
        "<a href=\"https://colab.research.google.com/github/Siri800/G.Siri-chandana/blob/main/lab1.ipynb\" target=\"_parent\"><img src=\"https://colab.research.google.com/assets/colab-badge.svg\" alt=\"Open In Colab\"/></a>"
      ]
    },
    {
      "cell_type": "code",
      "source": [
        "# prompt: Part_1 - Python Libraries and Packages[C01]\n",
        "# 1.Lists\n",
        "# 2.Arrays\n",
        "# 3.Identify their type using type()\n",
        "# 4.Perform mathematical operations on these datasets created-multiplication,division,poweroff\n",
        "# 5.Combine text with Numpy fuction to generate a textual output-\"Addition of Two:array1+array2 implement np.sin(),log(),np.exp())\n",
        "\n",
        "import numpy as np\n",
        "\n",
        "# Lists\n",
        "list1 = [1, 2, 3, 4, 5]\n",
        "list2 = [6, 7, 8, 9, 10]\n",
        "print(\"List 1:\", list1)\n",
        "print(\"List 2:\", list2)\n",
        "print(\"Type of list1:\", type(list1))\n",
        "\n",
        "# Arrays\n",
        "array1 = np.array([1, 2, 3, 4, 5])\n",
        "array2 = np.array([6, 7, 8, 9, 10])\n",
        "print(\"Array 1:\", array1)\n",
        "print(\"Array 2:\", array2)\n",
        "print(\"Type of array1:\", type(array1))\n",
        "\n",
        "# Mathematical operations\n",
        "# Multiplication\n",
        "print(\"Multiplication of lists:\", [x * y for x, y in zip(list1, list2)])\n",
        "print(\"Multiplication of arrays:\", array1 * array2)\n",
        "\n",
        "# Division\n",
        "print(\"Division of lists (using list comprehension):\", [x / y for x, y in zip(list1, list2)])\n",
        "print(\"Division of arrays:\", array1 / array2)\n",
        "\n",
        "# Power of\n",
        "print(\"Power of lists (using list comprehension):\", [x ** y for x, y in zip(list1, list2)])\n",
        "print(\"Power of arrays:\", array1 ** array2)\n",
        "\n",
        "# Combining text with NumPy functions\n",
        "result_add = array1 + array2\n",
        "result_sin = np.sin(array1)\n",
        "result_log = np.log(array2)\n",
        "result_exp = np.exp(array1)\n",
        "\n",
        "print(\"Addition of Two: array1 + array2 =\", result_add)\n",
        "print(\"np.sin(array1) =\", result_sin)\n",
        "print(\"np.log(array2) =\", result_log)\n",
        "print(\"np.exp(array1) =\", result_exp)\n"
      ],
      "metadata": {
        "colab": {
          "base_uri": "https://localhost:8080/"
        },
        "id": "BPMvGZ1_ykLC",
        "outputId": "5ff2deb1-646d-4131-f226-b31152e823c0"
      },
      "execution_count": null,
      "outputs": [
        {
          "output_type": "stream",
          "name": "stdout",
          "text": [
            "List 1: [1, 2, 3, 4, 5]\n",
            "List 2: [6, 7, 8, 9, 10]\n",
            "Type of list1: <class 'list'>\n",
            "Array 1: [1 2 3 4 5]\n",
            "Array 2: [ 6  7  8  9 10]\n",
            "Type of array1: <class 'numpy.ndarray'>\n",
            "Multiplication of lists: [6, 14, 24, 36, 50]\n",
            "Multiplication of arrays: [ 6 14 24 36 50]\n",
            "Division of lists (using list comprehension): [0.16666666666666666, 0.2857142857142857, 0.375, 0.4444444444444444, 0.5]\n",
            "Division of arrays: [0.16666667 0.28571429 0.375      0.44444444 0.5       ]\n",
            "Power of lists (using list comprehension): [1, 128, 6561, 262144, 9765625]\n",
            "Power of arrays: [      1     128    6561  262144 9765625]\n",
            "Addition of Two: array1 + array2 = [ 7  9 11 13 15]\n",
            "np.sin(array1) = [ 0.84147098  0.90929743  0.14112001 -0.7568025  -0.95892427]\n",
            "np.log(array2) = [1.79175947 1.94591015 2.07944154 2.19722458 2.30258509]\n",
            "np.exp(array1) = [  2.71828183   7.3890561   20.08553692  54.59815003 148.4131591 ]\n"
          ]
        }
      ]
    },
    {
      "cell_type": "markdown",
      "source": [],
      "metadata": {
        "id": "-qFN7oNMzFvf"
      }
    }
  ]
}